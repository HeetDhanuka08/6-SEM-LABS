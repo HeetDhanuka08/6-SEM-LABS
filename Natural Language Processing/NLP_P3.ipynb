{
  "nbformat": 4,
  "nbformat_minor": 0,
  "metadata": {
    "colab": {
      "provenance": []
    },
    "kernelspec": {
      "name": "python3",
      "display_name": "Python 3"
    },
    "language_info": {
      "name": "python"
    }
  },
  "cells": [
    {
      "cell_type": "markdown",
      "source": [
        "NAME: Heet Dhanuka\n",
        "\n",
        "ROLL NO.: B - 34\n",
        "\n",
        "BATCH: B2\n",
        "\n",
        "NLP PRACTICAL 3\n",
        "---\n",
        "\n",
        "AIM :- Part A\n",
        "\n",
        "Generate Regular expressions for identifying tokens and sentences and paragraphs in a running test.\n",
        "call functions to find tokens , sentences and Paragraphs from given news article.\n",
        "\n",
        "Perform POS tagging\n",
        "Generate word cloud with tokens having tags NNP and VB\n",
        "\n",
        "Part B\n",
        "\n",
        "Apply basic text processing on any standard corpus of language other than english"
      ],
      "metadata": {
        "id": "S5VDp_ALewvA"
      }
    },
    {
      "cell_type": "code",
      "source": [
        "# importing Libraries\n",
        "import re\n",
        "import nltk\n",
        "from nltk.corpus import stopwords\n",
        "nltk.download('stopwords')\n",
        "nltk.download('averaged_perceptron_tagger_eng')"
      ],
      "metadata": {
        "colab": {
          "base_uri": "https://localhost:8080/"
        },
        "id": "NFdOkp0f6Pxi",
        "outputId": "5a6ab9a7-c6f5-4dd5-a0e8-d00b0e4706ff"
      },
      "execution_count": null,
      "outputs": [
        {
          "output_type": "stream",
          "name": "stderr",
          "text": [
            "[nltk_data] Downloading package stopwords to /root/nltk_data...\n",
            "[nltk_data]   Package stopwords is already up-to-date!\n",
            "[nltk_data] Downloading package averaged_perceptron_tagger_eng to\n",
            "[nltk_data]     /root/nltk_data...\n",
            "[nltk_data]   Package averaged_perceptron_tagger_eng is already up-to-\n",
            "[nltk_data]       date!\n"
          ]
        },
        {
          "output_type": "execute_result",
          "data": {
            "text/plain": [
              "True"
            ]
          },
          "metadata": {},
          "execution_count": 22
        }
      ]
    },
    {
      "cell_type": "code",
      "execution_count": null,
      "metadata": {
        "id": "os3bONRI1smg"
      },
      "outputs": [],
      "source": [
        "# sample text\n",
        "text = '''based on the 126 companies mapped by The Sentry, the corporate network of Kiir’s family includes high-profile businesspeople and politicians from around the region, as well as members of the military and National Security Service, both of which have engaged in gross human rights violations.\n",
        "Several companies that included Kiir family members in their lists of shareholders received public contracts or letters of credit, which are essentially guarantees from a bank to a seller that they’ll be paid by the buyer. The Sentry, in examining these companies, identified a number of red flags for trade-based money laundering.\n",
        "The children and grandchildren of Kiir and his brother-in-law, Gregory Vasili, served as founding shareholders for a number of companies when they were still minors.\n",
        "South Sudan’s constitution prohibits high-ranking officials and other constitutional office holders from being involved in commercial business or receiving renumeration from any source other than the national government. However, this constitutional provision is often circumvented by having family members of officials listed as the shareholders on companies.\n",
        "Despite the provision also requiring that these officeholders make a declaration of their assets and liabilities, including those of their spouses and children, such declarations—when they actually occur—often remain confidential and are not subject to public scrutiny.'''"
      ]
    },
    {
      "cell_type": "code",
      "source": [
        "# word tokenization\n",
        "def word_segmentation(text):\n",
        "  words = re.findall(r'\\b\\w+\\b', text.lower())\n",
        "  return words, len(words)\n",
        "\n",
        "words, word_count = word_segmentation(text)\n",
        "\n",
        "print(\"Word Segmentation:\")\n",
        "print(words)\n",
        "print(\"Number of words:\", word_count)\n",
        "\n",
        "# Removing Stopwords\n",
        "print(\"\\nAfter removing stopwords\")\n",
        "stop_words = set(stopwords.words('english'))\n",
        "filtered_words = [w for w in words if not w in stop_words]\n",
        "print(filtered_words)\n",
        "print(\"Number of words:\", len(filtered_words))\n",
        "\n",
        "# POS tagging on filtered words\n",
        "pos_tags = nltk.pos_tag(filtered_words)\n",
        "print(\"\\nPOS Tagging on filtered words:\")\n",
        "print(pos_tags)\n",
        "\n",
        "# Print Proper Nouns (NNP)\n",
        "proper_nouns = [word for word, pos in pos_tags if pos == 'NNP']\n",
        "print(\"\\nProper Nouns:\")\n",
        "print(proper_nouns)\n"
      ],
      "metadata": {
        "colab": {
          "base_uri": "https://localhost:8080/"
        },
        "id": "u56A7a_96-_Y",
        "outputId": "a132fdb9-d38d-421a-ef1d-cece1834d5a6"
      },
      "execution_count": null,
      "outputs": [
        {
          "output_type": "stream",
          "name": "stdout",
          "text": [
            "Word Segmentation:\n",
            "['based', 'on', 'the', '126', 'companies', 'mapped', 'by', 'the', 'sentry', 'the', 'corporate', 'network', 'of', 'kiir', 's', 'family', 'includes', 'high', 'profile', 'businesspeople', 'and', 'politicians', 'from', 'around', 'the', 'region', 'as', 'well', 'as', 'members', 'of', 'the', 'military', 'and', 'national', 'security', 'service', 'both', 'of', 'which', 'have', 'engaged', 'in', 'gross', 'human', 'rights', 'violations', 'several', 'companies', 'that', 'included', 'kiir', 'family', 'members', 'in', 'their', 'lists', 'of', 'shareholders', 'received', 'public', 'contracts', 'or', 'letters', 'of', 'credit', 'which', 'are', 'essentially', 'guarantees', 'from', 'a', 'bank', 'to', 'a', 'seller', 'that', 'they', 'll', 'be', 'paid', 'by', 'the', 'buyer', 'the', 'sentry', 'in', 'examining', 'these', 'companies', 'identified', 'a', 'number', 'of', 'red', 'flags', 'for', 'trade', 'based', 'money', 'laundering', 'the', 'children', 'and', 'grandchildren', 'of', 'kiir', 'and', 'his', 'brother', 'in', 'law', 'gregory', 'vasili', 'served', 'as', 'founding', 'shareholders', 'for', 'a', 'number', 'of', 'companies', 'when', 'they', 'were', 'still', 'minors', 'south', 'sudan', 's', 'constitution', 'prohibits', 'high', 'ranking', 'officials', 'and', 'other', 'constitutional', 'office', 'holders', 'from', 'being', 'involved', 'in', 'commercial', 'business', 'or', 'receiving', 'renumeration', 'from', 'any', 'source', 'other', 'than', 'the', 'national', 'government', 'however', 'this', 'constitutional', 'provision', 'is', 'often', 'circumvented', 'by', 'having', 'family', 'members', 'of', 'officials', 'listed', 'as', 'the', 'shareholders', 'on', 'companies', 'despite', 'the', 'provision', 'also', 'requiring', 'that', 'these', 'officeholders', 'make', 'a', 'declaration', 'of', 'their', 'assets', 'and', 'liabilities', 'including', 'those', 'of', 'their', 'spouses', 'and', 'children', 'such', 'declarations', 'when', 'they', 'actually', 'occur', 'often', 'remain', 'confidential', 'and', 'are', 'not', 'subject', 'to', 'public', 'scrutiny']\n",
            "Number of words: 216\n",
            "\n",
            "After removing stopwords\n",
            "['based', '126', 'companies', 'mapped', 'sentry', 'corporate', 'network', 'kiir', 'family', 'includes', 'high', 'profile', 'businesspeople', 'politicians', 'around', 'region', 'well', 'members', 'military', 'national', 'security', 'service', 'engaged', 'gross', 'human', 'rights', 'violations', 'several', 'companies', 'included', 'kiir', 'family', 'members', 'lists', 'shareholders', 'received', 'public', 'contracts', 'letters', 'credit', 'essentially', 'guarantees', 'bank', 'seller', 'paid', 'buyer', 'sentry', 'examining', 'companies', 'identified', 'number', 'red', 'flags', 'trade', 'based', 'money', 'laundering', 'children', 'grandchildren', 'kiir', 'brother', 'law', 'gregory', 'vasili', 'served', 'founding', 'shareholders', 'number', 'companies', 'still', 'minors', 'south', 'sudan', 'constitution', 'prohibits', 'high', 'ranking', 'officials', 'constitutional', 'office', 'holders', 'involved', 'commercial', 'business', 'receiving', 'renumeration', 'source', 'national', 'government', 'however', 'constitutional', 'provision', 'often', 'circumvented', 'family', 'members', 'officials', 'listed', 'shareholders', 'companies', 'despite', 'provision', 'also', 'requiring', 'officeholders', 'make', 'declaration', 'assets', 'liabilities', 'including', 'spouses', 'children', 'declarations', 'actually', 'occur', 'often', 'remain', 'confidential', 'subject', 'public', 'scrutiny']\n",
            "Number of words: 121\n",
            "\n",
            "POS Tagging on filtered words:\n",
            "[('based', 'VBN'), ('126', 'CD'), ('companies', 'NNS'), ('mapped', 'VBD'), ('sentry', 'NN'), ('corporate', 'JJ'), ('network', 'NN'), ('kiir', 'VBD'), ('family', 'NN'), ('includes', 'VBZ'), ('high', 'JJ'), ('profile', 'NN'), ('businesspeople', 'NN'), ('politicians', 'NNS'), ('around', 'IN'), ('region', 'NN'), ('well', 'RB'), ('members', 'NNS'), ('military', 'JJ'), ('national', 'JJ'), ('security', 'NN'), ('service', 'NN'), ('engaged', 'VBD'), ('gross', 'JJ'), ('human', 'JJ'), ('rights', 'NNS'), ('violations', 'NNS'), ('several', 'JJ'), ('companies', 'NNS'), ('included', 'VBD'), ('kiir', 'JJ'), ('family', 'NN'), ('members', 'NNS'), ('lists', 'VBZ'), ('shareholders', 'NNS'), ('received', 'VBN'), ('public', 'JJ'), ('contracts', 'NNS'), ('letters', 'NNS'), ('credit', 'NN'), ('essentially', 'RB'), ('guarantees', 'VBZ'), ('bank', 'NN'), ('seller', 'NN'), ('paid', 'VBN'), ('buyer', 'NN'), ('sentry', 'NN'), ('examining', 'VBG'), ('companies', 'NNS'), ('identified', 'VBN'), ('number', 'NN'), ('red', 'JJ'), ('flags', 'NNS'), ('trade', 'NN'), ('based', 'VBN'), ('money', 'NN'), ('laundering', 'VBG'), ('children', 'NNS'), ('grandchildren', 'NNS'), ('kiir', 'VBP'), ('brother', 'NN'), ('law', 'NN'), ('gregory', 'NN'), ('vasili', 'NN'), ('served', 'VBD'), ('founding', 'JJ'), ('shareholders', 'NNS'), ('number', 'NN'), ('companies', 'NNS'), ('still', 'RB'), ('minors', 'NNS'), ('south', 'VBP'), ('sudan', 'JJ'), ('constitution', 'NN'), ('prohibits', 'NNS'), ('high', 'JJ'), ('ranking', 'NN'), ('officials', 'NNS'), ('constitutional', 'JJ'), ('office', 'NN'), ('holders', 'NNS'), ('involved', 'VBN'), ('commercial', 'JJ'), ('business', 'NN'), ('receiving', 'VBG'), ('renumeration', 'NN'), ('source', 'NN'), ('national', 'JJ'), ('government', 'NN'), ('however', 'RB'), ('constitutional', 'JJ'), ('provision', 'NN'), ('often', 'RB'), ('circumvented', 'VBD'), ('family', 'NN'), ('members', 'NNS'), ('officials', 'NNS'), ('listed', 'VBD'), ('shareholders', 'NNS'), ('companies', 'NNS'), ('despite', 'IN'), ('provision', 'NN'), ('also', 'RB'), ('requiring', 'VBG'), ('officeholders', 'NNS'), ('make', 'VBP'), ('declaration', 'NN'), ('assets', 'NNS'), ('liabilities', 'VBZ'), ('including', 'VBG'), ('spouses', 'NNS'), ('children', 'NNS'), ('declarations', 'NNS'), ('actually', 'RB'), ('occur', 'VBP'), ('often', 'RB'), ('remain', 'VBP'), ('confidential', 'JJ'), ('subject', 'JJ'), ('public', 'JJ'), ('scrutiny', 'NN')]\n",
            "\n",
            "Proper Nouns:\n",
            "[]\n"
          ]
        }
      ]
    },
    {
      "cell_type": "code",
      "source": [
        "# sentence tokenization\n",
        "def sentence_segmentation(text):\n",
        "  sentences = re.split(r'(?<!\\w\\.\\w.)(?<![A-Z][a-z]\\.)(?<=\\.|\\?)\\s', text)\n",
        "  return sentences, len(sentences)\n",
        "\n",
        "sentences, sentence_count = sentence_segmentation(text)\n",
        "\n",
        "print(\"\\nSentence Segmentation:\")\n",
        "print(sentences)\n",
        "print(\"Number of sentences:\", sentence_count)"
      ],
      "metadata": {
        "colab": {
          "base_uri": "https://localhost:8080/"
        },
        "id": "iXcp-06R78NR",
        "outputId": "b61d7185-7e86-4352-d355-3698ed590c75"
      },
      "execution_count": null,
      "outputs": [
        {
          "output_type": "stream",
          "name": "stdout",
          "text": [
            "\n",
            "Sentence Segmentation:\n",
            "['based on the 126 companies mapped by The Sentry, the corporate network of Kiir’s family includes high-profile businesspeople and politicians from around the region, as well as members of the military and National Security Service, both of which have engaged in gross human rights violations.', 'Several companies that included Kiir family members in their lists of shareholders received public contracts or letters of credit, which are essentially guarantees from a bank to a seller that they’ll be paid by the buyer.', 'The Sentry, in examining these companies, identified a number of red flags for trade-based money laundering.', 'The children and grandchildren of Kiir and his brother-in-law, Gregory Vasili, served as founding shareholders for a number of companies when they were still minors.', 'South Sudan’s constitution prohibits high-ranking officials and other constitutional office holders from being involved in commercial business or receiving renumeration from any source other than the national government.', 'However, this constitutional provision is often circumvented by having family members of officials listed as the shareholders on companies.', 'Despite the provision also requiring that these officeholders make a declaration of their assets and liabilities, including those of their spouses and children, such declarations—when they actually occur—often remain confidential and are not subject to public scrutiny.']\n",
            "Number of sentences: 7\n"
          ]
        }
      ]
    },
    {
      "cell_type": "code",
      "source": [
        "# paragraph tokenization\n",
        "def paragraph_segmentation(text):\n",
        "  paragraphs = re.split(r'\\n\\s*\\n', text)\n",
        "  return paragraphs, len(paragraphs)\n",
        "\n",
        "paragraphs, paragraph_count = paragraph_segmentation(text)\n",
        "\n",
        "print(\"\\nParagraph Segmentation:\")\n",
        "print(paragraphs)\n",
        "print(\"Number of paragraphs:\", paragraph_count)"
      ],
      "metadata": {
        "colab": {
          "base_uri": "https://localhost:8080/"
        },
        "id": "EshsN7_78qgi",
        "outputId": "62e62cb6-0730-4b51-fdb1-93b96a1cc93f"
      },
      "execution_count": null,
      "outputs": [
        {
          "output_type": "stream",
          "name": "stdout",
          "text": [
            "\n",
            "Paragraph Segmentation:\n",
            "['based on the 126 companies mapped by The Sentry, the corporate network of Kiir’s family includes high-profile businesspeople and politicians from around the region, as well as members of the military and National Security Service, both of which have engaged in gross human rights violations.\\nSeveral companies that included Kiir family members in their lists of shareholders received public contracts or letters of credit, which are essentially guarantees from a bank to a seller that they’ll be paid by the buyer. The Sentry, in examining these companies, identified a number of red flags for trade-based money laundering.\\nThe children and grandchildren of Kiir and his brother-in-law, Gregory Vasili, served as founding shareholders for a number of companies when they were still minors.\\nSouth Sudan’s constitution prohibits high-ranking officials and other constitutional office holders from being involved in commercial business or receiving renumeration from any source other than the national government. However, this constitutional provision is often circumvented by having family members of officials listed as the shareholders on companies.\\nDespite the provision also requiring that these officeholders make a declaration of their assets and liabilities, including those of their spouses and children, such declarations—when they actually occur—often remain confidential and are not subject to public scrutiny.']\n",
            "Number of paragraphs: 1\n"
          ]
        }
      ]
    },
    {
      "cell_type": "code",
      "source": [
        "# import punkt\n",
        "nltk.download('punkt')\n",
        "from nltk.tokenize import sent_tokenize\n",
        "nltk.download('punkt_tab')"
      ],
      "metadata": {
        "colab": {
          "base_uri": "https://localhost:8080/"
        },
        "id": "WKgbTEj9chEr",
        "outputId": "223be91e-8528-43aa-b221-4d9797fbacfa"
      },
      "execution_count": null,
      "outputs": [
        {
          "output_type": "stream",
          "name": "stderr",
          "text": [
            "[nltk_data] Downloading package punkt to /root/nltk_data...\n",
            "[nltk_data]   Package punkt is already up-to-date!\n",
            "[nltk_data] Downloading package punkt_tab to /root/nltk_data...\n",
            "[nltk_data]   Package punkt_tab is already up-to-date!\n"
          ]
        },
        {
          "output_type": "execute_result",
          "data": {
            "text/plain": [
              "True"
            ]
          },
          "metadata": {},
          "execution_count": 27
        }
      ]
    },
    {
      "cell_type": "code",
      "source": [
        "# German text\n",
        "german_text = '''Die Unionsfraktion hat angekündigte Antragsentwürfe für eine härtere Migrationspolitik vorgelegt, die sie in der kommenden Woche in den Bundestag einbringen will. Darin fordert sie dauerhafte Grenzkontrollen und die Zurückweisung ausnahmslos aller Versuche einer illegalen Einreise sowie weitere Punkte für eine Wende in der Migrationspolitik.\n",
        "                Zu den fünf Punkten, die unverzüglich umgesetzt werden sollen, zählt ferner, dass nachvollziehbar ausreisepflichtige Personen \"unmittelbar in Haft genommen werden\", wie die Nachrichtenagenturen dpa und Reuters unter Berufung auf die Entwürfe berichten. Die Bundesländer sollen mehr Unterstützung beim Vollzug der Ausreisepflicht erhalten. Zudem soll das Aufenthaltsrecht für Straftäter und sogenannte Gefährder verschärft werden.'''\n",
        "\n",
        "# Sentence tokenization\n",
        "german_sentences = sent_tokenize(german_text, language='german')\n",
        "print(\"Sentence Tokenization (German):\")\n",
        "german_sentences"
      ],
      "metadata": {
        "colab": {
          "base_uri": "https://localhost:8080/"
        },
        "id": "FxJM-BMULRxU",
        "outputId": "95c07ad1-6907-4fe4-ea3b-06611438e319"
      },
      "execution_count": null,
      "outputs": [
        {
          "output_type": "stream",
          "name": "stdout",
          "text": [
            "Sentence Tokenization (German):\n"
          ]
        },
        {
          "output_type": "execute_result",
          "data": {
            "text/plain": [
              "['Die Unionsfraktion hat angekündigte Antragsentwürfe für eine härtere Migrationspolitik vorgelegt, die sie in der kommenden Woche in den Bundestag einbringen will.',\n",
              " 'Darin fordert sie dauerhafte Grenzkontrollen und die Zurückweisung ausnahmslos aller Versuche einer illegalen Einreise sowie weitere Punkte für eine Wende in der Migrationspolitik.',\n",
              " 'Zu den fünf Punkten, die unverzüglich umgesetzt werden sollen, zählt ferner, dass nachvollziehbar ausreisepflichtige Personen \"unmittelbar in Haft genommen werden\", wie die Nachrichtenagenturen dpa und Reuters unter Berufung auf die Entwürfe berichten.',\n",
              " 'Die Bundesländer sollen mehr Unterstützung beim Vollzug der Ausreisepflicht erhalten.',\n",
              " 'Zudem soll das Aufenthaltsrecht für Straftäter und sogenannte Gefährder verschärft werden.']"
            ]
          },
          "metadata": {},
          "execution_count": 28
        }
      ]
    },
    {
      "cell_type": "code",
      "source": [],
      "metadata": {
        "id": "sAa8vbZnd9Ye"
      },
      "execution_count": null,
      "outputs": []
    }
  ]
}