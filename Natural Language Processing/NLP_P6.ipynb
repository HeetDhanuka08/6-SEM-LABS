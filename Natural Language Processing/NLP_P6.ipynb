{
  "nbformat": 4,
  "nbformat_minor": 0,
  "metadata": {
    "colab": {
      "provenance": []
    },
    "kernelspec": {
      "name": "python3",
      "display_name": "Python 3"
    },
    "language_info": {
      "name": "python"
    }
  },
  "cells": [
    {
      "cell_type": "markdown",
      "source": [
        "NAME : Heet Dhanuka\n",
        "\n",
        "ROLL NO.: 34\n",
        "\n",
        "BATCH: B2\n",
        "\n",
        "NLP PRACTICAL 6\n",
        "\n",
        "___\n",
        "\n",
        "AIM : i) Write a function to find synonyms and antonyms:\n",
        "\n",
        "ii) Write a python program to do pos tagging for synonym and antonym using nltk wordnet"
      ],
      "metadata": {
        "id": "DniXRLBhjXpw"
      }
    },
    {
      "cell_type": "code",
      "source": [
        "import nltk\n",
        "from nltk.corpus import wordnet\n",
        "nltk.download('wordnet')\n",
        "nltk.download('omw-1.4')"
      ],
      "metadata": {
        "colab": {
          "base_uri": "https://localhost:8080/"
        },
        "id": "gGrU6H0klEN_",
        "outputId": "1650e466-bd5a-42b8-ffa1-e4e449e10e06"
      },
      "execution_count": null,
      "outputs": [
        {
          "output_type": "stream",
          "name": "stderr",
          "text": [
            "[nltk_data] Downloading package wordnet to /root/nltk_data...\n",
            "[nltk_data]   Package wordnet is already up-to-date!\n",
            "[nltk_data] Downloading package omw-1.4 to /root/nltk_data...\n",
            "[nltk_data]   Package omw-1.4 is already up-to-date!\n"
          ]
        },
        {
          "output_type": "execute_result",
          "data": {
            "text/plain": [
              "True"
            ]
          },
          "metadata": {},
          "execution_count": 30
        }
      ]
    },
    {
      "cell_type": "code",
      "source": [
        "# PART 1\n",
        "def get_synonyms_and_antonyms(word):\n",
        "  synonyms = set()\n",
        "  antonyms = set()\n",
        "\n",
        "  # Iterate over synsets of the word\n",
        "  for syn in wordnet.synsets(word):\n",
        "    # Add synonyms\n",
        "    for lemma in syn.lemmas():\n",
        "      synonyms.add(lemma.name())\n",
        "\n",
        "      # Add antonyms if available\n",
        "      if lemma.antonyms():\n",
        "        for ant in lemma.antonyms():\n",
        "          antonyms.add(ant.name())\n",
        "\n",
        "  return synonyms, antonyms\n",
        "\n",
        "# Example usage\n",
        "word = \"happy\"\n",
        "synonyms, antonyms = get_synonyms_and_antonyms(word)\n",
        "\n",
        "print(f\"Synonyms of '{word}': {synonyms}\")\n",
        "print(f\"Antonyms of '{word}': {antonyms}\")"
      ],
      "metadata": {
        "colab": {
          "base_uri": "https://localhost:8080/"
        },
        "id": "iPliLsGajxBx",
        "outputId": "1297c054-d423-43f0-b995-e9603bbb6de8"
      },
      "execution_count": null,
      "outputs": [
        {
          "output_type": "stream",
          "name": "stdout",
          "text": [
            "Synonyms of 'happy': {'glad', 'happy', 'felicitous', 'well-chosen'}\n",
            "Antonyms of 'happy': {'unhappy'}\n"
          ]
        }
      ]
    },
    {
      "cell_type": "code",
      "source": [
        "import nltk\n",
        "from nltk.corpus import wordnet\n",
        "from nltk import pos_tag, word_tokenize\n",
        "nltk.download('averaged_perceptron_tagger_eng')\n",
        "nltk.download('punkt_tab')\n",
        "nltk.download('averaged_perceptron_tagger')\n",
        "nltk.download('wordnet')\n",
        "nltk.download('omw-1.4')"
      ],
      "metadata": {
        "colab": {
          "base_uri": "https://localhost:8080/"
        },
        "id": "Yv27bSttm4UG",
        "outputId": "0271afe0-e797-473b-d1d7-7521d7d590e8"
      },
      "execution_count": null,
      "outputs": [
        {
          "output_type": "stream",
          "name": "stderr",
          "text": [
            "[nltk_data] Downloading package averaged_perceptron_tagger_eng to\n",
            "[nltk_data]     /root/nltk_data...\n",
            "[nltk_data]   Package averaged_perceptron_tagger_eng is already up-to-\n",
            "[nltk_data]       date!\n",
            "[nltk_data] Downloading package punkt_tab to /root/nltk_data...\n",
            "[nltk_data]   Package punkt_tab is already up-to-date!\n",
            "[nltk_data] Downloading package averaged_perceptron_tagger to\n",
            "[nltk_data]     /root/nltk_data...\n",
            "[nltk_data]   Package averaged_perceptron_tagger is already up-to-\n",
            "[nltk_data]       date!\n",
            "[nltk_data] Downloading package wordnet to /root/nltk_data...\n",
            "[nltk_data]   Package wordnet is already up-to-date!\n",
            "[nltk_data] Downloading package omw-1.4 to /root/nltk_data...\n",
            "[nltk_data]   Package omw-1.4 is already up-to-date!\n"
          ]
        },
        {
          "output_type": "execute_result",
          "data": {
            "text/plain": [
              "True"
            ]
          },
          "metadata": {},
          "execution_count": 25
        }
      ]
    },
    {
      "cell_type": "code",
      "source": [
        "# PART 2\n",
        "\n",
        "# Function to get WordNet POS tag from NLTK POS tag\n",
        "def get_wordnet_pos(treebank_tag):\n",
        "    if treebank_tag.startswith('J'):\n",
        "        return wordnet.ADJ\n",
        "    elif treebank_tag.startswith('V'):\n",
        "        return wordnet.VERB\n",
        "    elif treebank_tag.startswith('N'):\n",
        "        return wordnet.NOUN\n",
        "    elif treebank_tag.startswith('R'):\n",
        "        return wordnet.ADV\n",
        "    else:\n",
        "        return None\n",
        "\n",
        "# Function to get synonyms and antonyms\n",
        "def get_synonyms_and_antonyms(word, wordnet_pos=None):\n",
        "    synonyms = set()\n",
        "    antonyms = set()\n",
        "\n",
        "    for synset in wordnet.synsets(word, pos=wordnet_pos):\n",
        "        for lemma in synset.lemmas():\n",
        "            synonyms.add(lemma.name())\n",
        "            for antonym in lemma.antonyms():\n",
        "                antonyms.add(antonym.name())\n",
        "\n",
        "    return synonyms, antonyms\n",
        "\n",
        "# Function to process text, find POS tags, and get synonyms/antonyms\n",
        "def process_text(text):\n",
        "    results = {}\n",
        "    for word, treebank_tag in pos_tag(word_tokenize(text)):\n",
        "        wordnet_pos = get_wordnet_pos(treebank_tag)\n",
        "        synonyms, antonyms = get_synonyms_and_antonyms(word, wordnet_pos)\n",
        "        results[word] = {\n",
        "            \"POS\": treebank_tag,\n",
        "            \"Synonyms\": synonyms,\n",
        "            \"Antonyms\": antonyms,\n",
        "        }\n",
        "    return results\n",
        "\n",
        "# Example usage\n",
        "text = \"The happy cat sat on the mat.\"\n",
        "results = process_text(text)\n",
        "\n",
        "# Print the results\n",
        "for word, data in results.items():\n",
        "    print(f\" Word: {word}\")\n",
        "    print(f\" POS: {data['POS']}\")\n",
        "    print(f\" Synonyms: {data['Synonyms']}\")\n",
        "    print(f\" Antonyms: {data['Antonyms']}\")"
      ],
      "metadata": {
        "colab": {
          "base_uri": "https://localhost:8080/"
        },
        "id": "nbwgIw8jl7SG",
        "outputId": "7a3a749e-fc26-442b-ad3c-7fd2d607c28f"
      },
      "execution_count": null,
      "outputs": [
        {
          "output_type": "stream",
          "name": "stdout",
          "text": [
            " Word: The\n",
            " POS: DT\n",
            " Synonyms: set()\n",
            " Antonyms: set()\n",
            " Word: happy\n",
            " POS: JJ\n",
            " Synonyms: {'glad', 'happy', 'felicitous', 'well-chosen'}\n",
            " Antonyms: {'unhappy'}\n",
            " Word: cat\n",
            " POS: NN\n",
            " Synonyms: {'computed_axial_tomography', 'hombre', 'big_cat', 'quat', 'kat', 'computerized_tomography', 'computed_tomography', 'Arabian_tea', \"cat-o'-nine-tails\", 'Caterpillar', 'bozo', 'computerized_axial_tomography', 'guy', 'qat', 'African_tea', 'cat', 'true_cat', 'CAT', 'khat', 'CT'}\n",
            " Antonyms: set()\n",
            " Word: sat\n",
            " POS: VBD\n",
            " Synonyms: {'pose', 'sit_down', 'model', 'posture', 'ride', 'baby-sit', 'sit', 'seat', 'sit_around'}\n",
            " Antonyms: {'arise', 'lie', 'stand'}\n",
            " Word: on\n",
            " POS: IN\n",
            " Synonyms: {'along', 'on'}\n",
            " Antonyms: {'off'}\n",
            " Word: the\n",
            " POS: DT\n",
            " Synonyms: set()\n",
            " Antonyms: set()\n",
            " Word: mat\n",
            " POS: NN\n",
            " Synonyms: {'Master_of_Arts_in_Teaching', 'lustrelessness', 'flatness', 'gym_mat', 'matting', 'mat', 'lusterlessness', 'matt', 'MAT', 'matte'}\n",
            " Antonyms: set()\n",
            " Word: .\n",
            " POS: .\n",
            " Synonyms: set()\n",
            " Antonyms: set()\n"
          ]
        }
      ]
    },
    {
      "cell_type": "code",
      "source": [],
      "metadata": {
        "id": "kyqtSLj7mv-V"
      },
      "execution_count": null,
      "outputs": []
    }
  ]
}