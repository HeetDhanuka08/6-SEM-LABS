{
 "cells": [
  {
   "cell_type": "markdown",
   "metadata": {
    "id": "Wxhdv1R1Vszd"
   },
   "source": [
    "Name :- Heet Dhanuka\n",
    "\n",
    "Batch :- B2\n",
    "\n",
    "Roll No. :- 34\n",
    "\n",
    "DL practical 6A\n",
    "\n",
    "---------\n",
    "\n",
    "Aim :- Consider  the following convolutional neural network which consists of .\n",
    " Stride=1, Padding= No, Target=5,  learning rate= 0.01, loss function = MSE.\n",
    "Write a python code for forward as well as backpropagation in dense network."
   ]
  },
  {
   "cell_type": "code",
   "execution_count": 1,
   "metadata": {
    "executionInfo": {
     "elapsed": 34,
     "status": "ok",
     "timestamp": 1742890071151,
     "user": {
      "displayName": "Prakhar Pande",
      "userId": "00208563539803565551"
     },
     "user_tz": -330
    },
    "id": "qNIgD0wPU5fH"
   },
   "outputs": [],
   "source": [
    "# importing library\n",
    "import numpy as np"
   ]
  },
  {
   "cell_type": "code",
   "execution_count": 2,
   "metadata": {
    "executionInfo": {
     "elapsed": 41,
     "status": "ok",
     "timestamp": 1742890072211,
     "user": {
      "displayName": "Prakhar Pande",
      "userId": "00208563539803565551"
     },
     "user_tz": -330
    },
    "id": "QOyefG2ObWhn"
   },
   "outputs": [],
   "source": [
    "# Convolution operation (stride=1, no padding)\n",
    "def convolution(input_matrix, kernel):\n",
    "    input_size = input_matrix.shape[0]\n",
    "    kernel_size = kernel.shape[0]\n",
    "    output_size = input_size - kernel_size + 1\n",
    "\n",
    "    feature_map = np.zeros((output_size, output_size))\n",
    "\n",
    "    for i in range(output_size):\n",
    "        for j in range(output_size):\n",
    "            feature_map[i, j] = np.sum(input_matrix[i:i+kernel_size, j:j+kernel_size] * kernel)\n",
    "\n",
    "    return feature_map"
   ]
  },
  {
   "cell_type": "code",
   "execution_count": 3,
   "metadata": {
    "executionInfo": {
     "elapsed": 11,
     "status": "ok",
     "timestamp": 1742890077632,
     "user": {
      "displayName": "Prakhar Pande",
      "userId": "00208563539803565551"
     },
     "user_tz": -330
    },
    "id": "m3oKgGvMVDgx"
   },
   "outputs": [],
   "source": [
    "# Sigmoid activation function\n",
    "def sigmoid(x):\n",
    "    return 1 / (1 + np.exp(-x))"
   ]
  },
  {
   "cell_type": "code",
   "execution_count": 4,
   "metadata": {
    "executionInfo": {
     "elapsed": 12,
     "status": "ok",
     "timestamp": 1742890077653,
     "user": {
      "displayName": "Prakhar Pande",
      "userId": "00208563539803565551"
     },
     "user_tz": -330
    },
    "id": "ChMjJjnEVGBV"
   },
   "outputs": [],
   "source": [
    "# Derivative of sigmoid function\n",
    "def sigmoid_derivative(x):\n",
    "    return x * (1 - x)"
   ]
  },
  {
   "cell_type": "code",
   "execution_count": 5,
   "metadata": {
    "executionInfo": {
     "elapsed": 9,
     "status": "ok",
     "timestamp": 1742890077670,
     "user": {
      "displayName": "Prakhar Pande",
      "userId": "00208563539803565551"
     },
     "user_tz": -330
    },
    "id": "sR8xOzKoVKxY"
   },
   "outputs": [],
   "source": [
    "# Mean Squared Error loss\n",
    "def mse_loss(y_pred, y_true):\n",
    "    return np.mean((y_pred - y_true) ** 2)"
   ]
  },
  {
   "cell_type": "code",
   "execution_count": 6,
   "metadata": {
    "executionInfo": {
     "elapsed": 7,
     "status": "ok",
     "timestamp": 1742890077684,
     "user": {
      "displayName": "Prakhar Pande",
      "userId": "00208563539803565551"
     },
     "user_tz": -330
    },
    "id": "13elq5yJVNAk"
   },
   "outputs": [],
   "source": [
    "# Derivative of MSE loss\n",
    "def mse_derivative(y_pred, y_true):\n",
    "    return 2 * (y_pred - y_true)"
   ]
  },
  {
   "cell_type": "code",
   "execution_count": 7,
   "metadata": {
    "executionInfo": {
     "elapsed": 10,
     "status": "ok",
     "timestamp": 1742890077933,
     "user": {
      "displayName": "Prakhar Pande",
      "userId": "00208563539803565551"
     },
     "user_tz": -330
    },
    "id": "EQqKwtf-VO7O"
   },
   "outputs": [],
   "source": [
    "# Given input matrix X and kernel K\n",
    "X = np.array([\n",
    "    [0, 2, 3],\n",
    "    [4, 6, 8],\n",
    "    [3, 1, 0]\n",
    "])\n",
    "\n",
    "K = np.array([\n",
    "    [0, -1],\n",
    "    [1, -1]\n",
    "])"
   ]
  },
  {
   "cell_type": "code",
   "execution_count": 8,
   "metadata": {
    "executionInfo": {
     "elapsed": 9,
     "status": "ok",
     "timestamp": 1742890077947,
     "user": {
      "displayName": "Prakhar Pande",
      "userId": "00208563539803565551"
     },
     "user_tz": -330
    },
    "id": "PPVeZowNVTLu"
   },
   "outputs": [],
   "source": [
    "# Perform convolution\n",
    "feature_map = convolution(X, K)"
   ]
  },
  {
   "cell_type": "code",
   "execution_count": 9,
   "metadata": {
    "executionInfo": {
     "elapsed": 10,
     "status": "ok",
     "timestamp": 1742890077962,
     "user": {
      "displayName": "Prakhar Pande",
      "userId": "00208563539803565551"
     },
     "user_tz": -330
    },
    "id": "4_N8xeskVW2-"
   },
   "outputs": [],
   "source": [
    "# Flatten feature map\n",
    "flattened_input = feature_map.flatten()"
   ]
  },
  {
   "cell_type": "code",
   "execution_count": 10,
   "metadata": {
    "executionInfo": {
     "elapsed": 7,
     "status": "ok",
     "timestamp": 1742890077974,
     "user": {
      "displayName": "Prakhar Pande",
      "userId": "00208563539803565551"
     },
     "user_tz": -330
    },
    "id": "IAaaSisWVa_n"
   },
   "outputs": [],
   "source": [
    "# Initialize weights and bias for dense layer\n",
    "weights = np.array([0.4, 0.3, 0.2, 0.6])  # Example weights\n",
    "bias = 0.1\n",
    "target = 5  # Given target"
   ]
  },
  {
   "cell_type": "code",
   "execution_count": 11,
   "metadata": {
    "executionInfo": {
     "elapsed": 5,
     "status": "ok",
     "timestamp": 1742890077986,
     "user": {
      "displayName": "Prakhar Pande",
      "userId": "00208563539803565551"
     },
     "user_tz": -330
    },
    "id": "8CEb_i3PVcyo"
   },
   "outputs": [],
   "source": [
    "# Forward propagation\n",
    "Z = np.dot(flattened_input, weights) + bias\n",
    "y_pred = sigmoid(Z)"
   ]
  },
  {
   "cell_type": "code",
   "execution_count": 12,
   "metadata": {
    "colab": {
     "base_uri": "https://localhost:8080/"
    },
    "executionInfo": {
     "elapsed": 20,
     "status": "ok",
     "timestamp": 1742890078014,
     "user": {
      "displayName": "Prakhar Pande",
      "userId": "00208563539803565551"
     },
     "user_tz": -330
    },
    "id": "UUHC9h8QVeUH",
    "outputId": "06ec1aba-679f-45ab-c867-a33b055b33d3"
   },
   "outputs": [
    {
     "name": "stdout",
     "output_type": "stream",
     "text": [
      "Initial Loss: 24.996646611155043\n"
     ]
    }
   ],
   "source": [
    "# Compute loss\n",
    "loss = mse_loss(y_pred, target)\n",
    "print(f\"Initial Loss: {loss}\")"
   ]
  },
  {
   "cell_type": "code",
   "execution_count": 13,
   "metadata": {
    "executionInfo": {
     "elapsed": 48,
     "status": "ok",
     "timestamp": 1742890078065,
     "user": {
      "displayName": "Prakhar Pande",
      "userId": "00208563539803565551"
     },
     "user_tz": -330
    },
    "id": "yk1-vi8JVgfz"
   },
   "outputs": [],
   "source": [
    "# Backpropagation\n",
    "dL_dy = mse_derivative(y_pred, target)  # Derivative of loss w.r.t. output\n",
    "dy_dz = sigmoid_derivative(y_pred)  # Derivative of sigmoid\n",
    "dL_dz = dL_dy * dy_dz  # Chain rule"
   ]
  },
  {
   "cell_type": "code",
   "execution_count": 14,
   "metadata": {
    "executionInfo": {
     "elapsed": 7,
     "status": "ok",
     "timestamp": 1742890078079,
     "user": {
      "displayName": "Prakhar Pande",
      "userId": "00208563539803565551"
     },
     "user_tz": -330
    },
    "id": "-Z4DiGQaVhq9"
   },
   "outputs": [],
   "source": [
    "# Compute gradients\n",
    "dL_dw = dL_dz * flattened_input\n",
    "dL_db = dL_dz"
   ]
  },
  {
   "cell_type": "code",
   "execution_count": 15,
   "metadata": {
    "executionInfo": {
     "elapsed": 9,
     "status": "ok",
     "timestamp": 1742890078312,
     "user": {
      "displayName": "Prakhar Pande",
      "userId": "00208563539803565551"
     },
     "user_tz": -330
    },
    "id": "N9_BpbwIVi9_"
   },
   "outputs": [],
   "source": [
    "# Update weights and bias using gradient descent\n",
    "learning_rate = 0.01\n",
    "weights -= learning_rate * dL_dw\n",
    "bias -= learning_rate * dL_db"
   ]
  },
  {
   "cell_type": "code",
   "execution_count": 16,
   "metadata": {
    "colab": {
     "base_uri": "https://localhost:8080/"
    },
    "executionInfo": {
     "elapsed": 20,
     "status": "ok",
     "timestamp": 1742890078393,
     "user": {
      "displayName": "Prakhar Pande",
      "userId": "00208563539803565551"
     },
     "user_tz": -330
    },
    "id": "acwcYPZtVkMK",
    "outputId": "50a9cb67-7044-4eaa-fd65-0da3ab1c73d5"
   },
   "outputs": [
    {
     "name": "stdout",
     "output_type": "stream",
     "text": [
      "Updated Weights: [0.39986591 0.29983239 0.19986591 0.59976535]\n"
     ]
    }
   ],
   "source": [
    "print(f\"Updated Weights: {weights}\")"
   ]
  },
  {
   "cell_type": "code",
   "execution_count": 17,
   "metadata": {
    "colab": {
     "base_uri": "https://localhost:8080/"
    },
    "executionInfo": {
     "elapsed": 25,
     "status": "ok",
     "timestamp": 1742890078525,
     "user": {
      "displayName": "Prakhar Pande",
      "userId": "00208563539803565551"
     },
     "user_tz": -330
    },
    "id": "jwbaxijhVl34",
    "outputId": "7154923a-c6a1-49ca-c8fc-29cba2038f72"
   },
   "outputs": [
    {
     "name": "stdout",
     "output_type": "stream",
     "text": [
      "Updated Bias: 0.10003352151863572\n"
     ]
    }
   ],
   "source": [
    "print(f\"Updated Bias: {bias}\")"
   ]
  },
  {
   "cell_type": "code",
   "execution_count": 35,
   "metadata": {
    "executionInfo": {
     "elapsed": 10,
     "status": "ok",
     "timestamp": 1742890078699,
     "user": {
      "displayName": "Prakhar Pande",
      "userId": "00208563539803565551"
     },
     "user_tz": -330
    },
    "id": "rRk0Ta2JVnOi"
   },
   "outputs": [],
   "source": []
  }
 ],
 "metadata": {
  "colab": {
   "authorship_tag": "ABX9TyM6tWJLBqkxn/i26aw4queL",
   "provenance": []
  },
  "kernelspec": {
   "display_name": "Python 3",
   "name": "python3"
  },
  "language_info": {
   "codemirror_mode": {
    "name": "ipython",
    "version": 3
   },
   "file_extension": ".py",
   "mimetype": "text/x-python",
   "name": "python",
   "nbconvert_exporter": "python",
   "pygments_lexer": "ipython3",
   "version": "3.12.6"
  }
 },
 "nbformat": 4,
 "nbformat_minor": 0
}
